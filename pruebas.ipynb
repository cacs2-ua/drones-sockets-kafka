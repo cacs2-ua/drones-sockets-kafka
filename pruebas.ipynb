{
 "cells": [
  {
   "cell_type": "code",
   "execution_count": 12,
   "metadata": {},
   "outputs": [
    {
     "name": "stdout",
     "output_type": "stream",
     "text": [
      "Mensaje cifrado: b'gAAAAABleCM1MyaemZkJb8a1jq6_jufYNKS2nEZdmaBpjhIzU37gpTl_5_uCxo48qkuVJMyH4iZrVuXSjaotxoKVKNOYehtzBNDi-FM08yLHl6fssX-hueiZnS9zMsGawQsUZJxLZSWE2PLDYBDBd0inokkXDZfc12lucA0iAzT6znMVpB2NvMcAgJE_ar5ANbKqLiA6RwwYBx8eZ9vmPJPm3OPn_5pycC_F286OoahtqIkIjG2PTtX1ILYhHImSa0LEJAbnopXgv_XVqkOOrjh20Np5vcqhvWKu89eyujcOO7oc4sNDmJy8w2XuqB-dIxr83L5op7YRx2xqE91Wc_FQ_w8bk0P_8CIt5O3DFBPSGpxfR6t03oSYS7ngJynsIdEEGWHps97ypKlyIDtmQ__0TFmyE07HMNl2h5ijhdniaqHlfeCnDqpX1srUxm2EEYRz7ObV2Yv-MnshlfdsYn8cHHAun0ZNEfOe9H2yPdS9CIU5tg-p2xeNBMckwnDrZdHJl-sJCaDfLJaElrbXQP-zvM_mBw6rdimxdMPGcerWs0XSzBm1-9exf-nwRW965P1J_guAR2aVEFxsWlrXNwWH6MHr-1OVvcdWTXP-n8RU0LU05w4y3oSBZxJn68NzjsJrcJtyYJlvFIFytu0hNi4at2seUli06pw8Qo_4BYBoFSkj0YZrNi_gefxPm3kv2hhqIL9IJwyU7A8WWGDC1MUtSUBzJtbO_oZM_mTY3pOaiikoPXZVD0UblE0xgWolUB6CVABCdqcEStQIUddAspWSsclglOfE7f70bK7OOqZZ4R_ULsKFy3PzvLZ31ziPiDO22hunL-Yzu1r3PbOUYLEuPIueGqnYiZUCRFibUW84DBt3axova3I0gdawJaUn5ORODdN_Y4nyAb7nuAlXg9Fj3YzqtitHVQrGtakFNv_SNvpTRG35sqwGz6ZzUL09wcAMY1gZkWg0RxU2ue9Yo4djjgAo8gUgdr2kPE9M9NO2k3A7fZs6QfflwxXqW4nTluRZiVbQJ1HgB1d55JOOt6uVvZgmrz9MUyAnA6J96TFs-czfGjsGIGqzLuXLdYO9nJ8X09MzQo9l13TcVXkh2mcqWH1-rUk-vLdcBmcKy0UYK8cZ_NID8Bx_LN91oXX1lj4pC-FQOvMzGANuh9Te-WXH8FkEvB965fPXGNtWJMzE-A1-svXEyW2YODjvJUNyHEM6KFFKwVhyQmDvUvgJJF-y55rgwC2NE5bwRJSgbPJwD6E2ONOhRbl8YR4FJcL7v_NkX0gHCkzl'\n",
      "Mensaje descifrado: [[(3, True), (3, True), (3, True), (3, True), (3, True), (3, True), (3, True), (3, True), (3, True), (3, True), (3, True), (3, True), (3, True), (3, True), (3, True), (3, True), (3, True), (3, True), (3, True), (3, True)], [(0, False), (0, False), (0, False), (0, False), (0, False), (0, False), (0, False), (0, False), (0, False), (0, False), (0, False), (0, False), (0, False), (0, False), (0, False), (0, False), (0, False), (0, False), (0, False), (0, False)], [(0, False), (0, False), (0, False), (0, False), (0, False), (0, False), (0, False), (0, False), (0, False), (0, False), (0, False), (0, False), (0, False), (0, False), (0, False), (0, False), (0, False), (0, False), (0, False), (0, False)], [(0, False), (0, False), (0, False), (0, False), (0, False), (0, False), (0, False), (0, False), (0, False), (0, False), (0, False), (0, False), (0, False), (0, False), (0, False), (0, False), (0, False), (0, False), (0, False), (0, False)], [(0, False), (0, False), (0, False), (0, False), (0, False), (0, False), (0, False), (0, False), (0, False), (0, False), (0, False), (0, False), (0, False), (0, False), (0, False), (0, False), (0, False), (0, False), (0, False), (0, False)], [(0, False), (0, False), (0, False), (0, False), (0, False), (0, False), (0, False), (0, False), (0, False), (0, False), (0, False), (0, False), (0, False), (0, False), (0, False), (0, False), (0, False), (0, False), (0, False), (0, False)], [(0, False), (0, False), (0, False), (0, False), (0, False), (0, False), (0, False), (0, False), (0, False), (0, False), (0, False), (0, False), (0, False), (0, False), (0, False), (0, False), (0, False), (0, False), (0, False), (0, False)], [(0, False), (0, False), (0, False), (0, False), (0, False), (0, False), (0, False), (0, False), (0, False), (0, False), (0, False), (0, False), (0, False), (0, False), (0, False), (0, False), (0, False), (0, False), (0, False), (0, False)], [(0, False), (0, False), (0, False), (0, False), (0, False), (0, False), (0, False), (0, False), (0, False), (0, False), (0, False), (0, False), (0, False), (0, False), (0, False), (0, False), (0, False), (0, False), (0, False), (0, False)], [(0, False), (0, False), (0, False), (0, False), (0, False), (0, False), (0, False), (0, False), (0, False), (0, False), (0, False), (0, False), (0, False), (0, False), (0, False), (0, False), (0, False), (0, False), (0, False), (0, False)], [(0, False), (0, False), (0, False), (0, False), (0, False), (0, False), (0, False), (0, False), (0, False), (0, False), (0, False), (0, False), (0, False), (0, False), (0, False), (0, False), (0, False), (0, False), (0, False), (0, False)], [(0, False), (0, False), (0, False), (0, False), (0, False), (0, False), (0, False), (0, False), (0, False), (0, False), (0, False), (0, False), (0, False), (0, False), (0, False), (0, False), (0, False), (0, False), (0, False), (0, False)], [(0, False), (0, False), (0, False), (0, False), (0, False), (0, False), (0, False), (0, False), (0, False), (0, False), (0, False), (0, False), (0, False), (0, False), (0, False), (0, False), (0, False), (0, False), (0, False), (0, False)], [(0, False), (0, False), (0, False), (0, False), (0, False), (0, False), (0, False), (0, False), (0, False), (0, False), (0, False), (0, False), (0, False), (0, False), (0, False), (0, False), (0, False), (0, False), (0, False), (0, False)], [(0, False), (0, False), (0, False), (0, False), (0, False), (0, False), (0, False), (0, False), (0, False), (0, False), (0, False), (0, False), (0, False), (0, False), (0, False), (0, False), (0, False), (0, False), (0, False), (0, False)], [(0, False), (0, False), (0, False), (0, False), (0, False), (0, False), (0, False), (0, False), (0, False), (0, False), (0, False), (0, False), (0, False), (0, False), (0, False), (0, False), (0, False), (0, False), (0, False), (0, False)], [(0, False), (0, False), (0, False), (0, False), (0, False), (0, False), (0, False), (0, False), (0, False), (0, False), (0, False), (0, False), (0, False), (0, False), (0, False), (0, False), (0, False), (0, False), (0, False), (0, False)], [(0, False), (0, False), (0, False), (0, False), (0, False), (0, False), (0, False), (0, False), (0, False), (0, False), (0, False), (0, False), (0, False), (0, False), (0, False), (0, False), (0, False), (0, False), (0, False), (0, False)], [(0, False), (0, False), (0, False), (0, False), (0, False), (0, False), (0, False), (0, False), (0, False), (0, False), (0, False), (0, False), (0, False), (0, False), (0, False), (0, False), (0, False), (0, False), (0, False), (0, False)], [(0, False), (0, False), (0, False), (0, False), (0, False), (0, False), (0, False), (0, False), (0, False), (0, False), (0, False), (0, False), (0, False), (0, False), (0, False), (0, False), (0, False), (0, False), (0, False), (0, False)]]\n"
     ]
    }
   ],
   "source": [
    "from cryptography.fernet import Fernet\n",
    "import pickle\n",
    "\n",
    "# Genera una clave secreta para el cifrado simétrico\n",
    "clave_secreta = Fernet.generate_key()\n",
    "\n",
    "# Crea un objeto Fernet con la clave secreta\n",
    "cipher_suite = Fernet(clave_secreta)\n",
    "\n",
    "# Mensaje a cifrar\n",
    "auxMap = []\n",
    "for i in range (0, 20):\n",
    "    auxMap.append([])\n",
    "    for j in range (0, 20):\n",
    "        if (i == 0):\n",
    "            auxMap[i].append((3,True))\n",
    "        else:\n",
    "            auxMap[i].append((0,False))\n",
    "\n",
    "# Cifra el mensaje\n",
    "mensaje_cifrado = cipher_suite.encrypt(pickle.dumps(auxMap))\n",
    "\n",
    "# Guarda la clave en un archivo de texto\n",
    "# with open(\"fernet.key\", \"wb\") as file:\n",
    "#     file.write(clave_secreta)\n",
    "\n",
    "# Recupera la clave desde el archivo\n",
    "with open(\"fernet.key\", \"rb\") as file:\n",
    "    clave_recuperada = file.read()\n",
    "\n",
    "# Crea un nuevo objeto Fernet con la clave recuperada\n",
    "cipher_suite_recuperado = Fernet(clave_recuperada)\n",
    "\n",
    "# Descifra el mensaje utilizando la clave recuperada\n",
    "mensaje_descifrado = pickle.loads(cipher_suite_recuperado.decrypt(mensaje_cifrado))\n",
    "\n",
    "print(\"Mensaje original:\", str(auxMap))\n",
    "print(\"Mensaje cifrado:\",  str(mensaje_cifrado))\n",
    "print(\"Mensaje descifrado:\",  str(mensaje_descifrado))\n",
    "\n"
   ]
  },
  {
   "cell_type": "code",
   "execution_count": 2,
   "metadata": {},
   "outputs": [
    {
     "name": "stdout",
     "output_type": "stream",
     "text": [
      "[[[0, False], [0, False], [0, False], [0, False], [0, False], [0, False], [0, False], [0, False], [0, False], [0, False], [0, False], [0, False], [0, False], [0, False], [0, False], [0, False], [0, False], [0, False], [0, False], [0, False]], [[0, False], [0, False], [0, False], [0, False], [0, False], [0, False], [0, False], [0, False], [0, False], [0, False], [0, False], [0, False], [0, False], [0, False], [0, False], [0, False], [0, False], [0, False], [0, False], [0, False]], [[0, False], [0, False], [0, False], [0, False], [0, False], [0, False], [0, False], [0, False], [0, False], [0, False], [0, False], [0, False], [0, False], [0, False], [0, False], [0, False], [0, False], [0, False], [0, False], [0, False]], [[0, False], [0, False], [0, False], [0, False], [0, False], [0, False], [0, False], [0, False], [0, False], [0, False], [0, False], [0, False], [0, False], [0, False], [0, False], [0, False], [0, False], [0, False], [0, False], [0, False]], [[0, False], [0, False], [0, False], [0, False], [0, False], [0, False], [0, False], [0, False], [0, False], [0, False], [0, False], [0, False], [0, False], [0, False], [0, False], [0, False], [0, False], [0, False], [0, False], [0, False]], [[0, False], [0, False], [0, False], [0, False], [0, False], [0, False], [0, False], [0, False], [0, False], [0, False], [0, False], [0, False], [0, False], [0, False], [0, False], [0, False], [0, False], [0, False], [0, False], [0, False]], [[0, False], [0, False], [0, False], [0, False], [0, False], [0, False], [0, False], [0, False], [0, False], [0, False], [0, False], [0, False], [0, False], [0, False], [0, False], [0, False], [0, False], [0, False], [0, False], [0, False]], [[0, False], [0, False], [0, False], [0, False], [0, False], [0, False], [0, False], [0, False], [0, False], [0, False], [0, False], [0, False], [0, False], [0, False], [0, False], [0, False], [0, False], [0, False], [0, False], [0, False]], [[0, False], [0, False], [0, False], [0, False], [0, False], [0, False], [0, False], [0, False], [0, False], [0, False], [0, False], [0, False], [0, False], [0, False], [0, False], [0, False], [0, False], [0, False], [0, False], [0, False]], [[0, False], [0, False], [0, False], [0, False], [0, False], [0, False], [0, False], [0, False], [0, False], [0, False], [0, False], [0, False], [0, False], [0, False], [0, False], [0, False], [0, False], [0, False], [0, False], [0, False]], [[0, False], [0, False], [0, False], [0, False], [0, False], [0, False], [0, False], [0, False], [0, False], [0, False], [0, False], [0, False], [0, False], [0, False], [0, False], [0, False], [0, False], [0, False], [0, False], [0, False]], [[0, False], [0, False], [0, False], [0, False], [0, False], [0, False], [0, False], [0, False], [0, False], [0, False], [0, False], [0, False], [0, False], [0, False], [0, False], [0, False], [0, False], [0, False], [0, False], [0, False]], [[0, False], [0, False], [0, False], [0, False], [0, False], [0, False], [0, False], [0, False], [0, False], [0, False], [0, False], [0, False], [0, False], [0, False], [0, False], [0, False], [0, False], [0, False], [0, False], [0, False]], [[0, False], [0, False], [0, False], [0, False], [0, False], [0, False], [0, False], [0, False], [0, False], [0, False], [0, False], [0, False], [0, False], [0, False], [0, False], [0, False], [0, False], [0, False], [0, False], [0, False]], [[0, False], [0, False], [0, False], [0, False], [0, False], [0, False], [0, False], [0, False], [0, False], [0, False], [0, False], [0, False], [0, False], [0, False], [0, False], [0, False], [0, False], [0, False], [0, False], [0, False]], [[0, False], [0, False], [0, False], [0, False], [0, False], [0, False], [0, False], [0, False], [0, False], [0, False], [0, False], [0, False], [0, False], [0, False], [0, False], [0, False], [0, False], [0, False], [0, False], [0, False]], [[0, False], [0, False], [0, False], [0, False], [0, False], [0, False], [0, False], [0, False], [0, False], [0, False], [0, False], [0, False], [0, False], [0, False], [0, False], [0, False], [0, False], [0, False], [0, False], [0, False]], [[0, False], [0, False], [0, False], [0, False], [0, False], [0, False], [0, False], [0, False], [0, False], [0, False], [0, False], [0, False], [0, False], [0, False], [0, False], [0, False], [0, False], [0, False], [0, False], [0, False]], [[0, False], [0, False], [0, False], [0, False], [0, False], [0, False], [0, False], [0, False], [0, False], [0, False], [0, False], [0, False], [0, False], [0, False], [0, False], [0, False], [0, False], [0, False], [0, False], [0, False]], [[0, False], [0, False], [0, False], [0, False], [0, False], [0, False], [0, False], [0, False], [0, False], [0, False], [0, False], [0, False], [0, False], [0, False], [0, False], [0, False], [0, False], [0, False], [0, False], [0, False]]]\n"
     ]
    }
   ],
   "source": [
    "import requests\n",
    "import json\n",
    "\n",
    "ip = '192.168.1.8'\n",
    "\n",
    "try:\n",
    "    url = 'http://' + ip + ':5000/mapa'\n",
    "    response= requests.get(url)\n",
    "    if response.status_code == 200:\n",
    "        diccionario_respuesta=response.json()\n",
    "        #print(json.dumps(diccionario_respuesta, indent=4, sort_keys=True), end=\"\\n\\n\\n\\n\\n\\n\")\n",
    "        print(diccionario_respuesta['data'])\n",
    "\n",
    "except Exception as e:\n",
    "    response = {\n",
    "    'data': None,\n",
    "    'error' : False,\n",
    "    'message': f'Error Ocurred: {e}'\n",
    "    }\n",
    "    print(json.dumps(response, indent=4, sort_keys=True), end=\"\\n\\n\\n\\n\\n\\n\")"
   ]
  }
 ],
 "metadata": {
  "kernelspec": {
   "display_name": "Python 3",
   "language": "python",
   "name": "python3"
  },
  "language_info": {
   "codemirror_mode": {
    "name": "ipython",
    "version": 3
   },
   "file_extension": ".py",
   "mimetype": "text/x-python",
   "name": "python",
   "nbconvert_exporter": "python",
   "pygments_lexer": "ipython3",
   "version": "3.11.0"
  }
 },
 "nbformat": 4,
 "nbformat_minor": 2
}
